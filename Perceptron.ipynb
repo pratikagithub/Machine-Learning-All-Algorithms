{
  "nbformat": 4,
  "nbformat_minor": 0,
  "metadata": {
    "colab": {
      "provenance": [],
      "authorship_tag": "ABX9TyMg8FVwz/MNgkQxbeAyybu3",
      "include_colab_link": true
    },
    "kernelspec": {
      "name": "python3",
      "display_name": "Python 3"
    },
    "language_info": {
      "name": "python"
    }
  },
  "cells": [
    {
      "cell_type": "markdown",
      "metadata": {
        "id": "view-in-github",
        "colab_type": "text"
      },
      "source": [
        "<a href=\"https://colab.research.google.com/github/pratikagithub/Machine-Learning-All-Algorithms/blob/main/Perceptron.ipynb\" target=\"_parent\"><img src=\"https://colab.research.google.com/assets/colab-badge.svg\" alt=\"Open In Colab\"/></a>"
      ]
    },
    {
      "cell_type": "markdown",
      "source": [
        "**Perceptron**   is one of the simplest architecture of Artificial Neural Networks in Machine Learning. It was invented by Frank Rosenblatt in 1957. Perceptron is a type of neural network architecture that falls under the category of the simplest form of artificial neural networks. The Perceptrons are generally based on different types of artificial neurons known as Threshold Logic Unit (TLU) or sometimes Linear Threshold Unit (LTU). The inputs and outputs of a perceptron are numbers, unlike the values we see using a classification algorithm like logistic regression (True or False values).\n",
        "\n",
        "Perceptrons are made up of a single layer of Threshold Logic Unit where each TLU is connected to all inputs. A single TLU can be used to solve the binary classification problem and if all neurons in one layer are connected to each neuron in the previous layer, it is called a fully connected layer or dense layer. Such types of architectures can be used in the problems of multiclass classification.\n",
        "\n",
        "**Implementation of Perceptron using Python**\n",
        "\n",
        "Thus, a Perceptron is the simplest architecture of an artificial neural network that can be used to train binary or multiclass classification models. Now let’s see the implementation of perceptrons using Python. Here I will use a perceptron on the classic iris dataset to classify iris species. Here is how we can implement Perceptron using Python:"
      ],
      "metadata": {
        "id": "CD6LNlT47RZl"
      }
    },
    {
      "cell_type": "code",
      "execution_count": 2,
      "metadata": {
        "colab": {
          "base_uri": "https://localhost:8080/"
        },
        "id": "KdbF2uM352Nf",
        "outputId": "f0a3e41d-cacb-4046-bd24-96f4b9d4b816"
      },
      "outputs": [
        {
          "output_type": "stream",
          "name": "stdout",
          "text": [
            "[0]\n"
          ]
        }
      ],
      "source": [
        "import numpy as np\n",
        "from sklearn.datasets import load_iris\n",
        "from sklearn.linear_model import Perceptron\n",
        "iris = load_iris()\n",
        "x = iris.data[:,(2,3)]\n",
        "y = (iris.target == 0).astype(int)\n",
        "perceptron = Perceptron()\n",
        "perceptron.fit(x, y)\n",
        "ypred = perceptron.predict([[2, 0.5]])\n",
        "print(ypred)"
      ]
    },
    {
      "cell_type": "markdown",
      "source": [
        "The performance of Perceptrons strongly resembles the stochastic gradient descent algorithm in machine learning. But unlike a classification algorithm, perceptrons do not produce a binary class output because they make predictions on hard thresholds. This is why machine learning classification algorithms are more preferred than using a Perceptron architecture to solve a classification problem."
      ],
      "metadata": {
        "id": "YvDVzUNr-_g8"
      }
    }
  ]
}