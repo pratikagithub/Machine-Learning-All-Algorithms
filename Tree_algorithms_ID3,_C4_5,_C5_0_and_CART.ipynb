{
  "nbformat": 4,
  "nbformat_minor": 0,
  "metadata": {
    "colab": {
      "provenance": [],
      "authorship_tag": "ABX9TyNBteGdI2oq2k/BNuEX5duj",
      "include_colab_link": true
    },
    "kernelspec": {
      "name": "python3",
      "display_name": "Python 3"
    },
    "language_info": {
      "name": "python"
    }
  },
  "cells": [
    {
      "cell_type": "markdown",
      "metadata": {
        "id": "view-in-github",
        "colab_type": "text"
      },
      "source": [
        "<a href=\"https://colab.research.google.com/github/pratikagithub/Machine-Learning-All-Algorithms/blob/main/Tree_algorithms_ID3%2C_C4_5%2C_C5_0_and_CART.ipynb\" target=\"_parent\"><img src=\"https://colab.research.google.com/assets/colab-badge.svg\" alt=\"Open In Colab\"/></a>"
      ]
    },
    {
      "cell_type": "markdown",
      "source": [
        "**Missing Values Support**\n",
        "\n",
        "DecisionTreeClassifier and DecisionTreeRegressor have built-in support for missing values when splitter='best' and criterion is 'gini', 'entropy’, or 'log_loss', for classification or 'squared_error', 'friedman_mse', or 'poisson' for regression.\n",
        "\n",
        "For each potential threshold on the non-missing data, the splitter will evaluate the split with all the missing values going to the left node or the right node.\n",
        "\n",
        "Decisions are made as follows:\n",
        "\n",
        "1. By default when predicting, the samples with missing values are classified with the class used in the split found during training:"
      ],
      "metadata": {
        "id": "XLqUiQDH3Ydd"
      }
    },
    {
      "cell_type": "code",
      "execution_count": 2,
      "metadata": {
        "colab": {
          "base_uri": "https://localhost:8080/"
        },
        "id": "G_tcmyzc3AdQ",
        "outputId": "40372762-041c-4f3a-e909-39a59404e79d"
      },
      "outputs": [
        {
          "output_type": "execute_result",
          "data": {
            "text/plain": [
              "array([0, 0, 1, 1])"
            ]
          },
          "metadata": {},
          "execution_count": 2
        }
      ],
      "source": [
        "from sklearn.tree import DecisionTreeClassifier\n",
        "import numpy as np\n",
        "\n",
        "X = np.array([0, 1, 6, np.nan]).reshape(-1, 1)\n",
        "y = [0, 0, 1, 1]\n",
        "\n",
        "tree = DecisionTreeClassifier(random_state=0).fit(X,y)\n",
        "tree.predict(X)"
      ]
    },
    {
      "cell_type": "markdown",
      "source": [
        "2. If the criterion evaluation is the same for both nodes, then the tie for missing value at predict time is broken by going to the right node. The splitter also checks the split where all the missing values go to one child and non-missing values go to the other:"
      ],
      "metadata": {
        "id": "8pPa1iNx4bsM"
      }
    },
    {
      "cell_type": "code",
      "source": [
        "from sklearn.tree import DecisionTreeClassifier\n",
        "import numpy as np\n",
        "\n",
        "X = np.array([np.nan, -1, np.nan, 1]).reshape(-1, 1)\n",
        "y = [0, 0, 1, 1]\n",
        "\n",
        "tree = DecisionTreeClassifier(random_state=0).fit(X, y)\n",
        "\n",
        "X_test = np.array([np.nan]).reshape(-1, 1)\n",
        "tree.predict(X_test)"
      ],
      "metadata": {
        "colab": {
          "base_uri": "https://localhost:8080/"
        },
        "id": "4j1aJ8Ov4gw_",
        "outputId": "3201edcf-de33-4e8a-d309-0db1ffd0bb96"
      },
      "execution_count": 3,
      "outputs": [
        {
          "output_type": "execute_result",
          "data": {
            "text/plain": [
              "array([1])"
            ]
          },
          "metadata": {},
          "execution_count": 3
        }
      ]
    },
    {
      "cell_type": "markdown",
      "source": [
        "3. If no missing values are seen during training for a given feature, then during prediction missing values are mapped to the child with the most samples:"
      ],
      "metadata": {
        "id": "4K8deI855RJS"
      }
    },
    {
      "cell_type": "code",
      "source": [
        "from sklearn.tree import DecisionTreeClassifier\n",
        "import numpy as np\n",
        "\n",
        "X = np.array([0, 1, 2, 3]).reshape(-1, 1)\n",
        "y = [0, 1, 1, 1]\n",
        "\n",
        "tree = DecisionTreeClassifier(random_state=0).fit(X, y)\n",
        "\n",
        "X_test = np.array([np.nan]).reshape(-1, 1)\n",
        "tree.predict(X_test)"
      ],
      "metadata": {
        "colab": {
          "base_uri": "https://localhost:8080/"
        },
        "id": "J0CDLn-55U-q",
        "outputId": "fd0a940e-fff8-4a98-f51a-3f045f64cac6"
      },
      "execution_count": 4,
      "outputs": [
        {
          "output_type": "execute_result",
          "data": {
            "text/plain": [
              "array([1])"
            ]
          },
          "metadata": {},
          "execution_count": 4
        }
      ]
    }
  ]
}